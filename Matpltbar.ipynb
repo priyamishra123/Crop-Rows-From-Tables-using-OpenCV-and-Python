{
  "nbformat": 4,
  "nbformat_minor": 0,
  "metadata": {
    "colab": {
      "provenance": [],
      "authorship_tag": "ABX9TyNOg4T6W/RrA5/DBO4UrBuS",
      "include_colab_link": true
    },
    "kernelspec": {
      "name": "python3",
      "display_name": "Python 3"
    },
    "language_info": {
      "name": "python"
    }
  },
  "cells": [
    {
      "cell_type": "markdown",
      "metadata": {
        "id": "view-in-github",
        "colab_type": "text"
      },
      "source": [
        "<a href=\"https://colab.research.google.com/github/priyamishra123/Crop-Rows-From-Tables-using-OpenCV-and-Python/blob/master/Matpltbar.ipynb\" target=\"_parent\"><img src=\"https://colab.research.google.com/assets/colab-badge.svg\" alt=\"Open In Colab\"/></a>"
      ]
    },
    {
      "cell_type": "code",
      "execution_count": 23,
      "metadata": {
        "id": "Y9hx6bI46yw1"
      },
      "outputs": [],
      "source": [
        "import matplotlib.pyplot as plt\n",
        "import numpy as np"
      ]
    },
    {
      "cell_type": "code",
      "source": [
        "x=[\"python\",\"c\",\"c++\"]"
      ],
      "metadata": {
        "id": "V2i2Vmot67UG"
      },
      "execution_count": 2,
      "outputs": []
    },
    {
      "cell_type": "code",
      "source": [
        "y=[80,55,43]\n",
        "z=[60,54,67]\n",
        "p=np.arange(len(x))\n",
        "width=0.2\n",
        "p1=[j+width for j in p]\n",
        "\n"
      ],
      "metadata": {
        "id": "y1Cm87sR7K1b"
      },
      "execution_count": 37,
      "outputs": []
    },
    {
      "cell_type": "code",
      "source": [
        "plt.bar(x,y)"
      ],
      "metadata": {
        "colab": {
          "base_uri": "https://localhost:8080/",
          "height": 282
        },
        "id": "qVZJJ33H7OD4",
        "outputId": "5ebc912c-af28-4ce3-dfd2-f06d4d7bd4ac"
      },
      "execution_count": 4,
      "outputs": [
        {
          "output_type": "execute_result",
          "data": {
            "text/plain": [
              "<BarContainer object of 3 artists>"
            ]
          },
          "metadata": {},
          "execution_count": 4
        },
        {
          "output_type": "display_data",
          "data": {
            "text/plain": [
              "<Figure size 432x288 with 1 Axes>"
            ],
            "image/png": "[encoded data removed]"
          },
          "metadata": {
            "needs_background": "light"
          }
        }
      ]
    },
    {
      "cell_type": "code",
      "source": [
        "plt.show()"
      ],
      "metadata": {
        "id": "MZxNZaPe7Sc9"
      },
      "execution_count": 5,
      "outputs": []
    },
    {
      "cell_type": "code",
      "source": [
        "c=[\"y\",\"r\",\"g\"]\n",
        "plt.bar(p,y,color=\"y\",edgecolor=\"m\",linewidth=1.5,width=0.2,label=\"popularity1\")\n",
        "plt.xlabel(\"languages\",fontsize=15)\n",
        "plt.ylabel(\"Number\",fontsize=15)\n",
        "plt.title(\"popularity\")\n",
        "plt.bar(p1,z,color=\"g\",width=0.2,edgecolor=\"r\",linewidth=1.5,label=\"popularity2\")\n",
        "plt.legend()\n",
        "plt.xticks(p+width/2,x,rotation=2)\n"
      ],
      "metadata": {
        "colab": {
          "base_uri": "https://localhost:8080/",
          "height": 371
        },
        "id": "z8lLthnB7YzP",
        "outputId": "7607fbce-8212-4c2c-c9f9-ee85e50c986c"
      },
      "execution_count": 39,
      "outputs": [
        {
          "output_type": "execute_result",
          "data": {
            "text/plain": [
              "([<matplotlib.axis.XTick at 0x7fce6873d1c0>,\n",
              "  <matplotlib.axis.XTick at 0x7fce6873da60>,\n",
              "  <matplotlib.axis.XTick at 0x7fce685e7f40>],\n",
              " [Text(0.1, 0, 'python'), Text(1.1, 0, 'c'), Text(2.1, 0, 'c++')])"
            ]
          },
          "metadata": {},
          "execution_count": 39
        },
        {
          "output_type": "display_data",
          "data": {
            "text/plain": [
              "<Figure size 432x288 with 1 Axes>"
            ],
            "image/png": "[encoded data removed]"
          },
          "metadata": {
            "needs_background": "light"
          }
        }
      ]
    },
    {
      "cell_type": "code",
      "source": [],
      "metadata": {
        "id": "HsoqooqFAUPn"
      },
      "execution_count": null,
      "outputs": []
    }
  ]
}